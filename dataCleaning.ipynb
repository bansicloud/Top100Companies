{
 "cells": [
  {
   "cell_type": "code",
   "execution_count": 1,
   "metadata": {
    "collapsed": false
   },
   "outputs": [],
   "source": [
    "%matplotlib inline\n",
    "\n",
    "import json\n",
    "import pandas as pd\n",
    "from pandas.io.json import json_normalize\n",
    "import matplotlib.pyplot as plt\n",
    "import numpy as np"
   ]
  },
  {
   "cell_type": "code",
   "execution_count": 2,
   "metadata": {
    "collapsed": false
   },
   "outputs": [],
   "source": [
    "with open('2017forbes2000.json', 'r') as f:\n",
    "    data = json.load(f)"
   ]
  },
  {
   "cell_type": "code",
   "execution_count": 3,
   "metadata": {
    "collapsed": false
   },
   "outputs": [
    {
     "name": "stdout",
     "output_type": "stream",
     "text": [
      "[u'assets', u'ceo', u'country', u'headquarters', u'imageUri', u'industry', u'marketValue', u'name', u'position', u'profits', u'rank', u'revenue', u'squareImage', u'state', u'thumbnail', u'uri']\n"
     ]
    }
   ],
   "source": [
    "df = json_normalize(data)\n",
    "print list(df)\n",
    "imp = set()"
   ]
  },
  {
   "cell_type": "code",
   "execution_count": null,
   "metadata": {
    "collapsed": false
   },
   "outputs": [],
   "source": [
    "imp = set(df.sort_values(by='revenue', ascending=False).head(n=50).name)"
   ]
  },
  {
   "cell_type": "code",
   "execution_count": 4,
   "metadata": {
    "collapsed": false
   },
   "outputs": [],
   "source": [
    "imp = imp.union(set(df.sort_values(by='profits', ascending=False).head(n=50).name))"
   ]
  },
  {
   "cell_type": "code",
   "execution_count": null,
   "metadata": {
    "collapsed": true
   },
   "outputs": [],
   "source": [
    "imp = imp.union(set(df.sort_values(by='assets', ascending=False).head(n=50).name))"
   ]
  },
  {
   "cell_type": "code",
   "execution_count": null,
   "metadata": {
    "collapsed": false
   },
   "outputs": [],
   "source": [
    "imp = imp.union(set(df.sort_values(by='marketValue', ascending=False).head(n=100).name))"
   ]
  },
  {
   "cell_type": "code",
   "execution_count": null,
   "metadata": {
    "collapsed": false
   },
   "outputs": [],
   "source": [
    "len(imp)"
   ]
  },
  {
   "cell_type": "code",
   "execution_count": 5,
   "metadata": {
    "collapsed": false
   },
   "outputs": [],
   "source": [
    "shortlist = df[df.name.isin(imp)]"
   ]
  },
  {
   "cell_type": "code",
   "execution_count": 6,
   "metadata": {
    "collapsed": false
   },
   "outputs": [
    {
     "data": {
      "text/plain": [
       "array([u'Telecommunications services', u'Regional Banks',\n",
       "       u'Pharmaceuticals', u'Computer Services', u'Tobacco',\n",
       "       u'Computer Hardware', u'Major Banks', u'Investment Services',\n",
       "       u'Communications Equipment', u'Broadcasting & Cable',\n",
       "       u'Auto & Truck Manufacturers', u'Oil & Gas Operations',\n",
       "       u'Conglomerates', u'Biotechs', u'Home Improvement Retail',\n",
       "       u'Semiconductors', u'Medical Equipment & Supplies',\n",
       "       u'Software & Programming', u'Food Processing',\n",
       "       u'Diversified Insurance', u'Household/Personal Care',\n",
       "       u'Discount Stores'], dtype=object)"
      ]
     },
     "execution_count": 6,
     "metadata": {},
     "output_type": "execute_result"
    }
   ],
   "source": [
    "shortlist.industry.unique()"
   ]
  },
  {
   "cell_type": "code",
   "execution_count": null,
   "metadata": {
    "collapsed": false
   },
   "outputs": [],
   "source": [
    "shortlist[shortlist.industry=='Healthcare Services']"
   ]
  },
  {
   "cell_type": "code",
   "execution_count": 7,
   "metadata": {
    "collapsed": false
   },
   "outputs": [
    {
     "name": "stderr",
     "output_type": "stream",
     "text": [
      "/Users/muhammaddawood/anaconda/lib/python2.7/site-packages/pandas/core/generic.py:2387: SettingWithCopyWarning: \n",
      "A value is trying to be set on a copy of a slice from a DataFrame.\n",
      "Try using .loc[row_indexer,col_indexer] = value instead\n",
      "\n",
      "See the caveats in the documentation: http://pandas.pydata.org/pandas-docs/stable/indexing.html#indexing-view-versus-copy\n",
      "  self[name] = value\n"
     ]
    }
   ],
   "source": [
    "shortlist.industry = shortlist.industry.map({'Conglomerates': 'Conglomerates', 'Major Banks': 'Finance & Insurance',\\\n",
    "                                            'Telecommunications services': 'Telecommunications', 'Diversified Insurance': 'Finance & Insurance',\\\n",
    "                                            'Pharmaceuticals': 'Pharmaceuticals', 'Regional Banks': 'Finance & Insurance',\\\n",
    "                                            'Business & Personal Services': 'Technology', 'Computer Services': 'Technology',\\\n",
    "                                            'Tobacco':'Tobacco', 'Internet & Catalog Retail': 'Technology', 'Biotechs':'Pharmaceuticals',\\\n",
    "                                             'Beverages':'Beverages', 'Managed Health Care': 'Healthcare', 'Diversified Insurance': 'Finance & Insurance',\\\n",
    "                                             'Computer Hardware': 'Technology', 'Auto & Truck Manufacturers': 'Automotive',\\\n",
    "                                             'Oil & Gas Operations': 'Oil & Gas','Investment Services': 'Finance & Insurance',\\\n",
    "                                             'Drug Retail': 'Retail', 'Construction Services':'Construction',\\\n",
    "                                             'Communications Equipment': 'Technology', 'Iron & Steel': 'Conglomerates',\\\n",
    "                                             'Broadcasting & Cable': 'Telecommunications','Discount Stores': 'Retail',\\\n",
    "                                             'Electric Utilities': 'Electric Utilities', 'Healthcare Services': 'Healthcare',\\\n",
    "                                             'Diversified Metals & Mining':'Mining', 'Home Improvement Retail': 'Retail',\\\n",
    "                                             'Electronics': 'Technology', 'Semiconductors':'Technology',\\\n",
    "                                             'Life & Health Insurance': 'Finance & Insurance', 'Medical Equipment & Supplies': 'Consumer Goods',\\\n",
    "                                             'Food Retail': 'Retail', 'Software & Programming': 'Technology', 'Food Processing': 'Consumer Goods',\\\n",
    "                                             'Household/Personal Care': 'Consumer Goods','Consumer Financial Services': 'Finance & Insurance'\\\n",
    "                                            })"
   ]
  },
  {
   "cell_type": "code",
   "execution_count": 8,
   "metadata": {
    "collapsed": false
   },
   "outputs": [
    {
     "name": "stderr",
     "output_type": "stream",
     "text": [
      "/Users/muhammaddawood/anaconda/lib/python2.7/site-packages/pandas/core/indexing.py:426: SettingWithCopyWarning: \n",
      "A value is trying to be set on a copy of a slice from a DataFrame.\n",
      "Try using .loc[row_indexer,col_indexer] = value instead\n",
      "\n",
      "See the caveats in the documentation: http://pandas.pydata.org/pandas-docs/stable/indexing.html#indexing-view-versus-copy\n",
      "  self.obj[item] = s\n"
     ]
    }
   ],
   "source": [
    "shortlist.loc[shortlist.name == 'Walt Disney', 'industry'] = 'Entertainment'"
   ]
  },
  {
   "cell_type": "code",
   "execution_count": 9,
   "metadata": {
    "collapsed": false
   },
   "outputs": [
    {
     "name": "stderr",
     "output_type": "stream",
     "text": [
      "/Users/muhammaddawood/anaconda/lib/python2.7/site-packages/ipykernel/__main__.py:1: SettingWithCopyWarning: \n",
      "A value is trying to be set on a copy of a slice from a DataFrame.\n",
      "Try using .loc[row_indexer,col_indexer] = value instead\n",
      "\n",
      "See the caveats in the documentation: http://pandas.pydata.org/pandas-docs/stable/indexing.html#indexing-view-versus-copy\n",
      "  if __name__ == '__main__':\n"
     ]
    }
   ],
   "source": [
    "shortlist['length'] = shortlist.name.str.len()"
   ]
  },
  {
   "cell_type": "code",
   "execution_count": 10,
   "metadata": {
    "collapsed": false
   },
   "outputs": [],
   "source": [
    "shortlist.revenue = shortlist.revenue/1000\n",
    "shortlist.marketValue = shortlist.marketValue/1000\n",
    "shortlist.profits = shortlist.profits/1000\n",
    "shortlist.assets= shortlist.assets/1000"
   ]
  },
  {
   "cell_type": "code",
   "execution_count": null,
   "metadata": {
    "collapsed": false
   },
   "outputs": [],
   "source": [
    "shortlist[shortlist.industry=='Technology']"
   ]
  },
  {
   "cell_type": "code",
   "execution_count": null,
   "metadata": {
    "collapsed": false
   },
   "outputs": [],
   "source": [
    "shortlist.industry.unique()"
   ]
  },
  {
   "cell_type": "code",
   "execution_count": null,
   "metadata": {
    "collapsed": false
   },
   "outputs": [],
   "source": [
    "jsonFile = {\"name\": \"top50\",\"children\": []}\n",
    "for entry in shortlist.sort_values(by='revenue', ascending=False).iterrows():\n",
    "    if len(jsonFile['children'])==0:\n",
    "        jsonFile['children'].append({\"name\":entry[1]['industry'], \"children\":[{'name':entry[1]['name'], 'size':entry[1]['profits'],'profit':entry[1]['profits'],'country':entry[1]['country'],'assets':entry[1]['assets'],\"marketValue\":entry[1]['marketValue']}]})\n",
    "    else:\n",
    "        entered = False\n",
    "        for index,cat in enumerate(jsonFile['children']):\n",
    "            if cat['name']==entry[1]['industry']:\n",
    "                jsonFile['children'][index]['children'].append({'name':entry[1]['name'], 'size':entry[1]['profits'],'profit':entry[1]['profits'],'country':entry[1]['country'],'assets':entry[1]['assets'],\"marketValue\":entry[1]['marketValue']})\n",
    "                entered = True\n",
    "                break\n",
    "        if not entered:\n",
    "            jsonFile['children'].append({\"name\":entry[1]['industry'], \"children\":[{'name':entry[1]['name'], 'size':entry[1]['profits'],'profit':entry[1]['profits'],'country':entry[1]['country'],'assets':entry[1]['assets'],\"marketValue\":entry[1]['marketValue']}]})"
   ]
  },
  {
   "cell_type": "code",
   "execution_count": null,
   "metadata": {
    "collapsed": false
   },
   "outputs": [],
   "source": [
    "json.dumps(jsonFile)"
   ]
  },
  {
   "cell_type": "code",
   "execution_count": null,
   "metadata": {
    "collapsed": false
   },
   "outputs": [],
   "source": [
    "sums = []\n",
    "names = []\n",
    "for i,ind in enumerate(jsonFile[\"children\"]):\n",
    "    names.append(ind[\"name\"])\n",
    "    sums.append(0)\n",
    "    for comp in ind[\"children\"]:\n",
    "        sums[i] += comp[\"size\"]\n",
    "print(names)\n",
    "print(sums)"
   ]
  },
  {
   "cell_type": "code",
   "execution_count": 11,
   "metadata": {
    "collapsed": false
   },
   "outputs": [
    {
     "data": {
      "text/plain": [
       "'[{\"profit\": 13.643, \"group\": \"Retail\", \"name\": \"Wal-Mart Stores\", \"revenue\": 485.252}, {\"profit\": 17.1115, \"group\": \"Automotive\", \"name\": \"Toyota Motor\", \"revenue\": 249.902}, {\"profit\": 24.074, \"group\": \"Finance & Insurance\", \"name\": \"Berkshire Hathaway\", \"revenue\": 222.935}, {\"profit\": 45.217, \"group\": \"Technology\", \"name\": \"Apple\", \"revenue\": 217.481}, {\"profit\": 7.84, \"group\": \"Oil & Gas\", \"name\": \"ExxonMobil\", \"revenue\": 197.518}, {\"profit\": 19.320700000000002, \"group\": \"Technology\", \"name\": \"Samsung Electronics\", \"revenue\": 173.995}, {\"profit\": 9.4314, \"group\": \"Automotive\", \"name\": \"Daimler\", \"revenue\": 169.537}, {\"profit\": 9.427, \"group\": \"Automotive\", \"name\": \"General Motors\", \"revenue\": 166.38}, {\"profit\": 12.976, \"group\": \"Telecommunications\", \"name\": \"AT&T\", \"revenue\": 163.786}, {\"profit\": 41.9837, \"group\": \"Finance & Insurance\", \"name\": \"ICBC\", \"revenue\": 151.381}, {\"profit\": 34.9814, \"group\": \"Finance & Insurance\", \"name\": \"China Construction Bank\", \"revenue\": 134.242}, {\"profit\": 13.127, \"group\": \"Telecommunications\", \"name\": \"Verizon Communications\", \"revenue\": 125.98}, {\"profit\": 10.02, \"group\": \"Conglomerates\", \"name\": \"General Electric\", \"revenue\": 119.69}, {\"profit\": 27.7975, \"group\": \"Finance & Insurance\", \"name\": \"Agricultural Bank of China\", \"revenue\": 115.698}, {\"profit\": 24.8566, \"group\": \"Finance & Insurance\", \"name\": \"Bank of China\", \"revenue\": 113.107}, {\"profit\": 12.313, \"group\": \"Finance & Insurance\", \"name\": \"Fannie Mae\", \"revenue\": 108.306}, {\"profit\": 16.4234, \"group\": \"Telecommunications\", \"name\": \"China Mobile\", \"revenue\": 106.763}, {\"profit\": 9.4603, \"group\": \"Finance & Insurance\", \"name\": \"Ping An Insurance Group\", \"revenue\": 106.606}, {\"profit\": 24.231, \"group\": \"Finance & Insurance\", \"name\": \"JPMorgan Chase\", \"revenue\": 102.494}, {\"profit\": 21.938, \"group\": \"Finance & Insurance\", \"name\": \"Wells Fargo\", \"revenue\": 97.573}, {\"profit\": 7.957, \"group\": \"Retail\", \"name\": \"Home Depot\", \"revenue\": 94.595}, {\"profit\": 16.563, \"group\": \"Finance & Insurance\", \"name\": \"Bank of America\", \"revenue\": 92.214}, {\"profit\": 12.141200000000001, \"group\": \"Oil & Gas\", \"name\": \"Gazprom\", \"revenue\": 91.353}, {\"profit\": 8.6594, \"group\": \"Consumer Goods\", \"name\": \"Nestle\", \"revenue\": 90.816}, {\"profit\": 19.478, \"group\": \"Technology\", \"name\": \"Alphabet\", \"revenue\": 89.92}, {\"profit\": 16.768, \"group\": \"Technology\", \"name\": \"Microsoft\", \"revenue\": 85.27}, {\"profit\": 14.717, \"group\": \"Finance & Insurance\", \"name\": \"Citigroup\", \"revenue\": 84.038}, {\"profit\": 8.307, \"group\": \"Telecommunications\", \"name\": \"Softbank\", \"revenue\": 82.136}, {\"profit\": 8.695, \"group\": \"Telecommunications\", \"name\": \"Comcast\", \"revenue\": 80.403}, {\"profit\": 11.872, \"group\": \"Technology\", \"name\": \"IBM\", \"revenue\": 79.918}, {\"profit\": 8.3706, \"group\": \"Finance & Insurance\", \"name\": \"BNP Paribas\", \"revenue\": 74.702}, {\"profit\": 16.375, \"group\": \"Consumer Goods\", \"name\": \"Johnson & Johnson\", \"revenue\": 71.937}, {\"profit\": 9.533, \"group\": \"Consumer Goods\", \"name\": \"Procter & Gamble\", \"revenue\": 65.231}, {\"profit\": 10.316, \"group\": \"Technology\", \"name\": \"Intel\", \"revenue\": 59.387}, {\"profit\": 8.99, \"group\": \"Entertainment\", \"name\": \"Walt Disney\", \"revenue\": 54.943}, {\"profit\": 10.141, \"group\": \"Finance & Insurance\", \"name\": \"Bank of Communications\", \"revenue\": 52.995}, {\"profit\": 9.7202, \"group\": \"Pharmaceuticals\", \"name\": \"Roche Holding\", \"revenue\": 51.338}, {\"profit\": 8.1545, \"group\": \"Finance & Insurance\", \"name\": \"Mitsubishi UFJ Financial\", \"revenue\": 49.173}, {\"profit\": 9.832, \"group\": \"Technology\", \"name\": \"Cisco Systems\", \"revenue\": 48.57}, {\"profit\": 9.3814, \"group\": \"Finance & Insurance\", \"name\": \"China Merchants Bank\", \"revenue\": 44.491}, {\"profit\": 8.106399999999999, \"group\": \"Finance & Insurance\", \"name\": \"Industrial Bank\", \"revenue\": 44.297}, {\"profit\": 8.0677, \"group\": \"Finance & Insurance\", \"name\": \"Sberbank\", \"revenue\": 43.044}, {\"profit\": 7.9926, \"group\": \"Finance & Insurance\", \"name\": \"Shanghai Pudong Development\", \"revenue\": 40.06}, {\"profit\": 8.917, \"group\": \"Technology\", \"name\": \"Oracle\", \"revenue\": 37.429}, {\"profit\": 8.3485, \"group\": \"Finance & Insurance\", \"name\": \"Royal Bank of Canada\", \"revenue\": 35.285}, {\"profit\": 13.501, \"group\": \"Pharmaceuticals\", \"name\": \"Gilead Sciences\", \"revenue\": 30.317}, {\"profit\": 10.364, \"group\": \"Technology\", \"name\": \"Taiwan Semiconductor\", \"revenue\": 29.392}, {\"profit\": 9.487, \"group\": \"Technology\", \"name\": \"Facebook\", \"revenue\": 27.638}, {\"profit\": 14.215, \"group\": \"Tobacco\", \"name\": \"Altria Group\", \"revenue\": 19.337}, {\"profit\": 14.9734, \"group\": \"Pharmaceuticals\", \"name\": \"Allergan\", \"revenue\": 14.967}]'"
      ]
     },
     "execution_count": 11,
     "metadata": {},
     "output_type": "execute_result"
    }
   ],
   "source": [
    "jsonFile = []\n",
    "for entry in shortlist.sort_values(by='revenue', ascending=False).head(n=50).iterrows():\n",
    "    jsonFile.append({\"name\":entry[1][\"name\"],\"revenue\":entry[1][\"revenue\"],\"profit\":entry[1][\"profits\"],\"group\":entry[1][\"industry\"]})\n",
    "json.dumps(jsonFile)"
   ]
  },
  {
   "cell_type": "code",
   "execution_count": null,
   "metadata": {
    "collapsed": false
   },
   "outputs": [],
   "source": [
    "jsonFile = {\"categories\": [],\"series\": [\"Revenue\",\"Profit\"],\"colors\": [\"#3498db\",\"#e74c3c\",\"#2ecc71\"],\"layers\": [[],[]]}\n",
    "for entry in shortlist.sort_values(by='revenue', ascending=False).head(n=50).iterrows():\n",
    "    jsonFile[\"categories\"].append(entry[1][\"name\"])\n",
    "    jsonFile[\"layers\"][0].append({\"name\":entry[1][\"name\"],\"y\":entry[1][\"revenue\"],\"group\":entry[1][\"industry\"]})\n",
    "    jsonFile[\"layers\"][1].append({\"name\":entry[1][\"name\"],\"y\":entry[1][\"profits\"],\"group\":entry[1][\"industry\"]})\n",
    "json.dumps(jsonFile)"
   ]
  },
  {
   "cell_type": "code",
   "execution_count": null,
   "metadata": {
    "collapsed": false
   },
   "outputs": [],
   "source": [
    "plt.plot(shortlist.revenue, shortlist.length, \"o\")\n",
    "plt.title(\"Gaussian Histogram\")\n",
    "plt.xlabel(\"Rev\")\n",
    "plt.ylabel(\"name\")"
   ]
  },
  {
   "cell_type": "code",
   "execution_count": null,
   "metadata": {
    "collapsed": true
   },
   "outputs": [],
   "source": [
    "plt.show()"
   ]
  },
  {
   "cell_type": "code",
   "execution_count": null,
   "metadata": {
    "collapsed": true
   },
   "outputs": [],
   "source": []
  }
 ],
 "metadata": {
  "kernelspec": {
   "display_name": "Python 2",
   "language": "python",
   "name": "python2"
  },
  "language_info": {
   "codemirror_mode": {
    "name": "ipython",
    "version": 2
   },
   "file_extension": ".py",
   "mimetype": "text/x-python",
   "name": "python",
   "nbconvert_exporter": "python",
   "pygments_lexer": "ipython2",
   "version": "2.7.11"
  }
 },
 "nbformat": 4,
 "nbformat_minor": 0
}
