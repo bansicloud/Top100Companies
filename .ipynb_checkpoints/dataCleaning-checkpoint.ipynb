{
 "cells": [
  {
   "cell_type": "code",
   "execution_count": 1,
   "metadata": {
    "collapsed": false
   },
   "outputs": [],
   "source": [
    "%matplotlib inline\n",
    "\n",
    "import json\n",
    "import pandas as pd\n",
    "from pandas.io.json import json_normalize\n",
    "import matplotlib.pyplot as plt\n",
    "import numpy as np"
   ]
  },
  {
   "cell_type": "code",
   "execution_count": 2,
   "metadata": {
    "collapsed": false
   },
   "outputs": [],
   "source": [
    "with open('2017forbes2000.json', 'r') as f:\n",
    "    data = json.load(f)"
   ]
  },
  {
   "cell_type": "code",
   "execution_count": 3,
   "metadata": {
    "collapsed": false
   },
   "outputs": [
    {
     "name": "stdout",
     "output_type": "stream",
     "text": [
      "[u'assets', u'ceo', u'country', u'headquarters', u'imageUri', u'industry', u'marketValue', u'name', u'position', u'profits', u'rank', u'revenue', u'squareImage', u'state', u'thumbnail', u'uri']\n"
     ]
    }
   ],
   "source": [
    "df = json_normalize(data)\n",
    "print list(df)\n",
    "imp = set()"
   ]
  },
  {
   "cell_type": "code",
   "execution_count": null,
   "metadata": {
    "collapsed": false
   },
   "outputs": [],
   "source": [
    "imp = set(df.sort_values(by='revenue', ascending=False).head(n=50).name)"
   ]
  },
  {
   "cell_type": "code",
   "execution_count": 4,
   "metadata": {
    "collapsed": false
   },
   "outputs": [],
   "source": [
    "imp = imp.union(set(df.sort_values(by='profits', ascending=False).head(n=50).name))"
   ]
  },
  {
   "cell_type": "code",
   "execution_count": null,
   "metadata": {
    "collapsed": true
   },
   "outputs": [],
   "source": [
    "imp = imp.union(set(df.sort_values(by='assets', ascending=False).head(n=50).name))"
   ]
  },
  {
   "cell_type": "code",
   "execution_count": null,
   "metadata": {
    "collapsed": false
   },
   "outputs": [],
   "source": [
    "imp = imp.union(set(df.sort_values(by='marketValue', ascending=False).head(n=100).name))"
   ]
  },
  {
   "cell_type": "code",
   "execution_count": null,
   "metadata": {
    "collapsed": false
   },
   "outputs": [],
   "source": [
    "len(imp)"
   ]
  },
  {
   "cell_type": "code",
   "execution_count": 5,
   "metadata": {
    "collapsed": false
   },
   "outputs": [],
   "source": [
    "shortlist = df[df.name.isin(imp)]"
   ]
  },
  {
   "cell_type": "code",
   "execution_count": 6,
   "metadata": {
    "collapsed": false
   },
   "outputs": [
    {
     "data": {
      "text/plain": [
       "array([u'Telecommunications services', u'Regional Banks',\n",
       "       u'Pharmaceuticals', u'Computer Services', u'Tobacco',\n",
       "       u'Computer Hardware', u'Major Banks', u'Investment Services',\n",
       "       u'Communications Equipment', u'Broadcasting & Cable',\n",
       "       u'Auto & Truck Manufacturers', u'Oil & Gas Operations',\n",
       "       u'Conglomerates', u'Biotechs', u'Home Improvement Retail',\n",
       "       u'Semiconductors', u'Medical Equipment & Supplies',\n",
       "       u'Software & Programming', u'Food Processing',\n",
       "       u'Diversified Insurance', u'Household/Personal Care',\n",
       "       u'Discount Stores'], dtype=object)"
      ]
     },
     "execution_count": 6,
     "metadata": {},
     "output_type": "execute_result"
    }
   ],
   "source": [
    "shortlist.industry.unique()"
   ]
  },
  {
   "cell_type": "code",
   "execution_count": 7,
   "metadata": {
    "collapsed": false
   },
   "outputs": [
    {
     "data": {
      "text/html": [
       "<div>\n",
       "<table border=\"1\" class=\"dataframe\">\n",
       "  <thead>\n",
       "    <tr style=\"text-align: right;\">\n",
       "      <th></th>\n",
       "      <th>assets</th>\n",
       "      <th>ceo</th>\n",
       "      <th>country</th>\n",
       "      <th>headquarters</th>\n",
       "      <th>imageUri</th>\n",
       "      <th>industry</th>\n",
       "      <th>marketValue</th>\n",
       "      <th>name</th>\n",
       "      <th>position</th>\n",
       "      <th>profits</th>\n",
       "      <th>rank</th>\n",
       "      <th>revenue</th>\n",
       "      <th>squareImage</th>\n",
       "      <th>state</th>\n",
       "      <th>thumbnail</th>\n",
       "      <th>uri</th>\n",
       "    </tr>\n",
       "  </thead>\n",
       "  <tbody>\n",
       "  </tbody>\n",
       "</table>\n",
       "</div>"
      ],
      "text/plain": [
       "Empty DataFrame\n",
       "Columns: [assets, ceo, country, headquarters, imageUri, industry, marketValue, name, position, profits, rank, revenue, squareImage, state, thumbnail, uri]\n",
       "Index: []"
      ]
     },
     "execution_count": 7,
     "metadata": {},
     "output_type": "execute_result"
    }
   ],
   "source": [
    "shortlist[shortlist.industry=='Healthcare Services']"
   ]
  },
  {
   "cell_type": "code",
   "execution_count": 8,
   "metadata": {
    "collapsed": false
   },
   "outputs": [
    {
     "name": "stderr",
     "output_type": "stream",
     "text": [
      "/Users/muhammaddawood/anaconda/lib/python2.7/site-packages/pandas/core/generic.py:2387: SettingWithCopyWarning: \n",
      "A value is trying to be set on a copy of a slice from a DataFrame.\n",
      "Try using .loc[row_indexer,col_indexer] = value instead\n",
      "\n",
      "See the caveats in the documentation: http://pandas.pydata.org/pandas-docs/stable/indexing.html#indexing-view-versus-copy\n",
      "  self[name] = value\n"
     ]
    }
   ],
   "source": [
    "shortlist.industry = shortlist.industry.map({'Conglomerates': 'Conglomerates', 'Major Banks': 'Finance & Insurance',\\\n",
    "                                            'Telecommunications services': 'Telecommunications', 'Diversified Insurance': 'Finance & Insurance',\\\n",
    "                                            'Pharmaceuticals': 'Pharmaceuticals', 'Regional Banks': 'Finance & Insurance',\\\n",
    "                                            'Business & Personal Services': 'Technology', 'Computer Services': 'Technology',\\\n",
    "                                            'Tobacco':'Tobacco', 'Internet & Catalog Retail': 'Technology', 'Biotechs':'Pharmaceuticals',\\\n",
    "                                             'Beverages':'Beverages', 'Managed Health Care': 'Healthcare', 'Diversified Insurance': 'Finance & Insurance',\\\n",
    "                                             'Computer Hardware': 'Technology', 'Auto & Truck Manufacturers': 'Automotive',\\\n",
    "                                             'Oil & Gas Operations': 'Oil & Gas','Investment Services': 'Finance & Insurance',\\\n",
    "                                             'Drug Retail': 'Retail', 'Construction Services':'Construction',\\\n",
    "                                             'Communications Equipment': 'Technology', 'Iron & Steel': 'Conglomerates',\\\n",
    "                                             'Broadcasting & Cable': 'Telecommunications','Discount Stores': 'Retail',\\\n",
    "                                             'Electric Utilities': 'Electric Utilities', 'Healthcare Services': 'Healthcare',\\\n",
    "                                             'Diversified Metals & Mining':'Mining', 'Home Improvement Retail': 'Retail',\\\n",
    "                                             'Electronics': 'Technology', 'Semiconductors':'Technology',\\\n",
    "                                             'Life & Health Insurance': 'Finance & Insurance', 'Medical Equipment & Supplies': 'Consumer Goods',\\\n",
    "                                             'Food Retail': 'Retail', 'Software & Programming': 'Technology', 'Food Processing': 'Consumer Goods',\\\n",
    "                                             'Household/Personal Care': 'Consumer Goods','Consumer Financial Services': 'Finance & Insurance'\\\n",
    "                                            })"
   ]
  },
  {
   "cell_type": "code",
   "execution_count": 9,
   "metadata": {
    "collapsed": false
   },
   "outputs": [
    {
     "name": "stderr",
     "output_type": "stream",
     "text": [
      "/Users/muhammaddawood/anaconda/lib/python2.7/site-packages/pandas/core/indexing.py:426: SettingWithCopyWarning: \n",
      "A value is trying to be set on a copy of a slice from a DataFrame.\n",
      "Try using .loc[row_indexer,col_indexer] = value instead\n",
      "\n",
      "See the caveats in the documentation: http://pandas.pydata.org/pandas-docs/stable/indexing.html#indexing-view-versus-copy\n",
      "  self.obj[item] = s\n"
     ]
    }
   ],
   "source": [
    "shortlist.loc[shortlist.name == 'Walt Disney', 'industry'] = 'Entertainment'"
   ]
  },
  {
   "cell_type": "code",
   "execution_count": 10,
   "metadata": {
    "collapsed": false
   },
   "outputs": [
    {
     "name": "stderr",
     "output_type": "stream",
     "text": [
      "/Users/muhammaddawood/anaconda/lib/python2.7/site-packages/ipykernel/__main__.py:1: SettingWithCopyWarning: \n",
      "A value is trying to be set on a copy of a slice from a DataFrame.\n",
      "Try using .loc[row_indexer,col_indexer] = value instead\n",
      "\n",
      "See the caveats in the documentation: http://pandas.pydata.org/pandas-docs/stable/indexing.html#indexing-view-versus-copy\n",
      "  if __name__ == '__main__':\n"
     ]
    }
   ],
   "source": [
    "shortlist['length'] = shortlist.name.str.len()"
   ]
  },
  {
   "cell_type": "code",
   "execution_count": 11,
   "metadata": {
    "collapsed": false
   },
   "outputs": [],
   "source": [
    "shortlist.revenue = shortlist.revenue/1000\n",
    "shortlist.marketValue = shortlist.marketValue/1000\n",
    "shortlist.profits = shortlist.profits/1000\n",
    "shortlist.assets= shortlist.assets/1000"
   ]
  },
  {
   "cell_type": "code",
   "execution_count": 12,
   "metadata": {
    "collapsed": false
   },
   "outputs": [
    {
     "data": {
      "text/html": [
       "<div>\n",
       "<table border=\"1\" class=\"dataframe\">\n",
       "  <thead>\n",
       "    <tr style=\"text-align: right;\">\n",
       "      <th></th>\n",
       "      <th>assets</th>\n",
       "      <th>ceo</th>\n",
       "      <th>country</th>\n",
       "      <th>headquarters</th>\n",
       "      <th>imageUri</th>\n",
       "      <th>industry</th>\n",
       "      <th>marketValue</th>\n",
       "      <th>name</th>\n",
       "      <th>position</th>\n",
       "      <th>profits</th>\n",
       "      <th>rank</th>\n",
       "      <th>revenue</th>\n",
       "      <th>squareImage</th>\n",
       "      <th>state</th>\n",
       "      <th>thumbnail</th>\n",
       "      <th>uri</th>\n",
       "      <th>length</th>\n",
       "    </tr>\n",
       "  </thead>\n",
       "  <tbody>\n",
       "    <tr>\n",
       "      <th>87</th>\n",
       "      <td>167.497</td>\n",
       "      <td>Lawrence E. Page</td>\n",
       "      <td>United States</td>\n",
       "      <td>California</td>\n",
       "      <td>alphabet</td>\n",
       "      <td>Technology</td>\n",
       "      <td>579.499</td>\n",
       "      <td>Alphabet</td>\n",
       "      <td>24</td>\n",
       "      <td>19.4780</td>\n",
       "      <td>24</td>\n",
       "      <td>89.920</td>\n",
       "      <td>NaN</td>\n",
       "      <td>California</td>\n",
       "      <td>NaN</td>\n",
       "      <td>alphabet</td>\n",
       "      <td>8</td>\n",
       "    </tr>\n",
       "    <tr>\n",
       "      <th>129</th>\n",
       "      <td>331.141</td>\n",
       "      <td>Tim Cook</td>\n",
       "      <td>United States</td>\n",
       "      <td>California</td>\n",
       "      <td>apple</td>\n",
       "      <td>Technology</td>\n",
       "      <td>752.039</td>\n",
       "      <td>Apple</td>\n",
       "      <td>9</td>\n",
       "      <td>45.2170</td>\n",
       "      <td>9</td>\n",
       "      <td>217.481</td>\n",
       "      <td>http://specials-images.forbesimg.com/imageserv...</td>\n",
       "      <td>California</td>\n",
       "      <td>http://specials-images.forbesimg.com/imageserv...</td>\n",
       "      <td>apple</td>\n",
       "      <td>5</td>\n",
       "    </tr>\n",
       "    <tr>\n",
       "      <th>481</th>\n",
       "      <td>126.248</td>\n",
       "      <td>Charles H. Robbins</td>\n",
       "      <td>United States</td>\n",
       "      <td>California</td>\n",
       "      <td>cisco-systems</td>\n",
       "      <td>Technology</td>\n",
       "      <td>165.059</td>\n",
       "      <td>Cisco Systems</td>\n",
       "      <td>58</td>\n",
       "      <td>9.8320</td>\n",
       "      <td>58</td>\n",
       "      <td>48.570</td>\n",
       "      <td>http://specials-images.forbesimg.com/imageserv...</td>\n",
       "      <td>California</td>\n",
       "      <td>http://specials-images.forbesimg.com/imageserv...</td>\n",
       "      <td>cisco-systems</td>\n",
       "      <td>13</td>\n",
       "    </tr>\n",
       "    <tr>\n",
       "      <th>688</th>\n",
       "      <td>64.961</td>\n",
       "      <td>Mark Elliot Zuckerberg</td>\n",
       "      <td>United States</td>\n",
       "      <td>California</td>\n",
       "      <td>facebook</td>\n",
       "      <td>Technology</td>\n",
       "      <td>407.300</td>\n",
       "      <td>Facebook</td>\n",
       "      <td>119</td>\n",
       "      <td>9.4870</td>\n",
       "      <td>119</td>\n",
       "      <td>27.638</td>\n",
       "      <td>http://specials-images.forbesimg.com/imageserv...</td>\n",
       "      <td>California</td>\n",
       "      <td>http://specials-images.forbesimg.com/imageserv...</td>\n",
       "      <td>facebook</td>\n",
       "      <td>8</td>\n",
       "    </tr>\n",
       "    <tr>\n",
       "      <th>916</th>\n",
       "      <td>117.470</td>\n",
       "      <td>Ginni Rometty</td>\n",
       "      <td>United States</td>\n",
       "      <td>New York</td>\n",
       "      <td>ibm</td>\n",
       "      <td>Technology</td>\n",
       "      <td>162.365</td>\n",
       "      <td>IBM</td>\n",
       "      <td>43</td>\n",
       "      <td>11.8720</td>\n",
       "      <td>43</td>\n",
       "      <td>79.918</td>\n",
       "      <td>http://specials-images.forbesimg.com/imageserv...</td>\n",
       "      <td>New York</td>\n",
       "      <td>http://specials-images.forbesimg.com/imageserv...</td>\n",
       "      <td>ibm</td>\n",
       "      <td>3</td>\n",
       "    </tr>\n",
       "    <tr>\n",
       "      <th>962</th>\n",
       "      <td>113.327</td>\n",
       "      <td>Brian M. Krzanich</td>\n",
       "      <td>United States</td>\n",
       "      <td>California</td>\n",
       "      <td>intel</td>\n",
       "      <td>Technology</td>\n",
       "      <td>170.350</td>\n",
       "      <td>Intel</td>\n",
       "      <td>54</td>\n",
       "      <td>10.3160</td>\n",
       "      <td>54</td>\n",
       "      <td>59.387</td>\n",
       "      <td>http://specials-images.forbesimg.com/imageserv...</td>\n",
       "      <td>California</td>\n",
       "      <td>http://specials-images.forbesimg.com/imageserv...</td>\n",
       "      <td>intel</td>\n",
       "      <td>5</td>\n",
       "    </tr>\n",
       "    <tr>\n",
       "      <th>1215</th>\n",
       "      <td>224.610</td>\n",
       "      <td>Satya Nadella</td>\n",
       "      <td>United States</td>\n",
       "      <td>Washington</td>\n",
       "      <td>microsoft</td>\n",
       "      <td>Technology</td>\n",
       "      <td>507.544</td>\n",
       "      <td>Microsoft</td>\n",
       "      <td>19</td>\n",
       "      <td>16.7680</td>\n",
       "      <td>19</td>\n",
       "      <td>85.270</td>\n",
       "      <td>http://specials-images.forbesimg.com/imageserv...</td>\n",
       "      <td>Washington</td>\n",
       "      <td>http://specials-images.forbesimg.com/imageserv...</td>\n",
       "      <td>microsoft</td>\n",
       "      <td>9</td>\n",
       "    </tr>\n",
       "    <tr>\n",
       "      <th>1362</th>\n",
       "      <td>125.382</td>\n",
       "      <td>Safra Ada Catz</td>\n",
       "      <td>United States</td>\n",
       "      <td>California</td>\n",
       "      <td>oracle</td>\n",
       "      <td>Technology</td>\n",
       "      <td>182.239</td>\n",
       "      <td>Oracle</td>\n",
       "      <td>70</td>\n",
       "      <td>8.9170</td>\n",
       "      <td>70</td>\n",
       "      <td>37.429</td>\n",
       "      <td>http://specials-images.forbesimg.com/imageserv...</td>\n",
       "      <td>California</td>\n",
       "      <td>http://specials-images.forbesimg.com/imageserv...</td>\n",
       "      <td>oracle</td>\n",
       "      <td>6</td>\n",
       "    </tr>\n",
       "    <tr>\n",
       "      <th>1564</th>\n",
       "      <td>217.068</td>\n",
       "      <td>Oh-Hyun Kwon</td>\n",
       "      <td>South Korea</td>\n",
       "      <td>South Korea</td>\n",
       "      <td>samsung-electronics</td>\n",
       "      <td>Technology</td>\n",
       "      <td>254.303</td>\n",
       "      <td>Samsung Electronics</td>\n",
       "      <td>15</td>\n",
       "      <td>19.3207</td>\n",
       "      <td>15</td>\n",
       "      <td>173.995</td>\n",
       "      <td>//specials-images.forbesimg.com/imageserve/580...</td>\n",
       "      <td>NaN</td>\n",
       "      <td>http://specials-images.forbesimg.com/imageserv...</td>\n",
       "      <td>samsung-electronics</td>\n",
       "      <td>19</td>\n",
       "    </tr>\n",
       "    <tr>\n",
       "      <th>1753</th>\n",
       "      <td>58.533</td>\n",
       "      <td>Te Yin Liu</td>\n",
       "      <td>Taiwan</td>\n",
       "      <td>Taiwan</td>\n",
       "      <td>taiwan-semiconductor</td>\n",
       "      <td>Technology</td>\n",
       "      <td>161.734</td>\n",
       "      <td>Taiwan Semiconductor</td>\n",
       "      <td>127</td>\n",
       "      <td>10.3640</td>\n",
       "      <td>127</td>\n",
       "      <td>29.392</td>\n",
       "      <td>NaN</td>\n",
       "      <td>NaN</td>\n",
       "      <td>NaN</td>\n",
       "      <td>taiwan-semiconductor</td>\n",
       "      <td>20</td>\n",
       "    </tr>\n",
       "  </tbody>\n",
       "</table>\n",
       "</div>"
      ],
      "text/plain": [
       "       assets                     ceo        country headquarters  \\\n",
       "87    167.497        Lawrence E. Page  United States   California   \n",
       "129   331.141                Tim Cook  United States   California   \n",
       "481   126.248      Charles H. Robbins  United States   California   \n",
       "688    64.961  Mark Elliot Zuckerberg  United States   California   \n",
       "916   117.470           Ginni Rometty  United States     New York   \n",
       "962   113.327       Brian M. Krzanich  United States   California   \n",
       "1215  224.610           Satya Nadella  United States   Washington   \n",
       "1362  125.382          Safra Ada Catz  United States   California   \n",
       "1564  217.068            Oh-Hyun Kwon    South Korea  South Korea   \n",
       "1753   58.533              Te Yin Liu         Taiwan       Taiwan   \n",
       "\n",
       "                  imageUri    industry  marketValue                  name  \\\n",
       "87                alphabet  Technology      579.499              Alphabet   \n",
       "129                  apple  Technology      752.039                 Apple   \n",
       "481          cisco-systems  Technology      165.059         Cisco Systems   \n",
       "688               facebook  Technology      407.300              Facebook   \n",
       "916                    ibm  Technology      162.365                   IBM   \n",
       "962                  intel  Technology      170.350                 Intel   \n",
       "1215             microsoft  Technology      507.544             Microsoft   \n",
       "1362                oracle  Technology      182.239                Oracle   \n",
       "1564   samsung-electronics  Technology      254.303   Samsung Electronics   \n",
       "1753  taiwan-semiconductor  Technology      161.734  Taiwan Semiconductor   \n",
       "\n",
       "      position  profits  rank  revenue  \\\n",
       "87          24  19.4780    24   89.920   \n",
       "129          9  45.2170     9  217.481   \n",
       "481         58   9.8320    58   48.570   \n",
       "688        119   9.4870   119   27.638   \n",
       "916         43  11.8720    43   79.918   \n",
       "962         54  10.3160    54   59.387   \n",
       "1215        19  16.7680    19   85.270   \n",
       "1362        70   8.9170    70   37.429   \n",
       "1564        15  19.3207    15  173.995   \n",
       "1753       127  10.3640   127   29.392   \n",
       "\n",
       "                                            squareImage       state  \\\n",
       "87                                                  NaN  California   \n",
       "129   http://specials-images.forbesimg.com/imageserv...  California   \n",
       "481   http://specials-images.forbesimg.com/imageserv...  California   \n",
       "688   http://specials-images.forbesimg.com/imageserv...  California   \n",
       "916   http://specials-images.forbesimg.com/imageserv...    New York   \n",
       "962   http://specials-images.forbesimg.com/imageserv...  California   \n",
       "1215  http://specials-images.forbesimg.com/imageserv...  Washington   \n",
       "1362  http://specials-images.forbesimg.com/imageserv...  California   \n",
       "1564  //specials-images.forbesimg.com/imageserve/580...         NaN   \n",
       "1753                                                NaN         NaN   \n",
       "\n",
       "                                              thumbnail                   uri  \\\n",
       "87                                                  NaN              alphabet   \n",
       "129   http://specials-images.forbesimg.com/imageserv...                 apple   \n",
       "481   http://specials-images.forbesimg.com/imageserv...         cisco-systems   \n",
       "688   http://specials-images.forbesimg.com/imageserv...              facebook   \n",
       "916   http://specials-images.forbesimg.com/imageserv...                   ibm   \n",
       "962   http://specials-images.forbesimg.com/imageserv...                 intel   \n",
       "1215  http://specials-images.forbesimg.com/imageserv...             microsoft   \n",
       "1362  http://specials-images.forbesimg.com/imageserv...                oracle   \n",
       "1564  http://specials-images.forbesimg.com/imageserv...   samsung-electronics   \n",
       "1753                                                NaN  taiwan-semiconductor   \n",
       "\n",
       "      length  \n",
       "87         8  \n",
       "129        5  \n",
       "481       13  \n",
       "688        8  \n",
       "916        3  \n",
       "962        5  \n",
       "1215       9  \n",
       "1362       6  \n",
       "1564      19  \n",
       "1753      20  "
      ]
     },
     "execution_count": 12,
     "metadata": {},
     "output_type": "execute_result"
    }
   ],
   "source": [
    "shortlist[shortlist.industry=='Technology']"
   ]
  },
  {
   "cell_type": "code",
   "execution_count": 13,
   "metadata": {
    "collapsed": false
   },
   "outputs": [
    {
     "data": {
      "text/plain": [
       "array(['Telecommunications', 'Finance & Insurance', 'Pharmaceuticals',\n",
       "       'Technology', 'Tobacco', 'Automotive', 'Oil & Gas', 'Conglomerates',\n",
       "       'Retail', 'Consumer Goods', 'Entertainment'], dtype=object)"
      ]
     },
     "execution_count": 13,
     "metadata": {},
     "output_type": "execute_result"
    }
   ],
   "source": [
    "shortlist.industry.unique()"
   ]
  },
  {
   "cell_type": "code",
   "execution_count": 17,
   "metadata": {
    "collapsed": false
   },
   "outputs": [
    {
     "ename": "KeyError",
     "evalue": "'profit'",
     "output_type": "error",
     "traceback": [
      "\u001b[0;31m---------------------------------------------------------------------------\u001b[0m",
      "\u001b[0;31mKeyError\u001b[0m                                  Traceback (most recent call last)",
      "\u001b[0;32m<ipython-input-17-b129e134270d>\u001b[0m in \u001b[0;36m<module>\u001b[0;34m()\u001b[0m\n\u001b[1;32m      7\u001b[0m         \u001b[0;32mfor\u001b[0m \u001b[0mindex\u001b[0m\u001b[0;34m,\u001b[0m\u001b[0mcat\u001b[0m \u001b[0;32min\u001b[0m \u001b[0menumerate\u001b[0m\u001b[0;34m(\u001b[0m\u001b[0mjsonFile\u001b[0m\u001b[0;34m[\u001b[0m\u001b[0;34m'children'\u001b[0m\u001b[0;34m]\u001b[0m\u001b[0;34m)\u001b[0m\u001b[0;34m:\u001b[0m\u001b[0;34m\u001b[0m\u001b[0m\n\u001b[1;32m      8\u001b[0m             \u001b[0;32mif\u001b[0m \u001b[0mcat\u001b[0m\u001b[0;34m[\u001b[0m\u001b[0;34m'name'\u001b[0m\u001b[0;34m]\u001b[0m\u001b[0;34m==\u001b[0m\u001b[0mentry\u001b[0m\u001b[0;34m[\u001b[0m\u001b[0;36m1\u001b[0m\u001b[0;34m]\u001b[0m\u001b[0;34m[\u001b[0m\u001b[0;34m'industry'\u001b[0m\u001b[0;34m]\u001b[0m\u001b[0;34m:\u001b[0m\u001b[0;34m\u001b[0m\u001b[0m\n\u001b[0;32m----> 9\u001b[0;31m                 \u001b[0mjsonFile\u001b[0m\u001b[0;34m[\u001b[0m\u001b[0;34m'children'\u001b[0m\u001b[0;34m]\u001b[0m\u001b[0;34m[\u001b[0m\u001b[0mindex\u001b[0m\u001b[0;34m]\u001b[0m\u001b[0;34m[\u001b[0m\u001b[0;34m'children'\u001b[0m\u001b[0;34m]\u001b[0m\u001b[0;34m.\u001b[0m\u001b[0mappend\u001b[0m\u001b[0;34m(\u001b[0m\u001b[0;34m{\u001b[0m\u001b[0;34m'name'\u001b[0m\u001b[0;34m:\u001b[0m\u001b[0mentry\u001b[0m\u001b[0;34m[\u001b[0m\u001b[0;36m1\u001b[0m\u001b[0;34m]\u001b[0m\u001b[0;34m[\u001b[0m\u001b[0;34m'name'\u001b[0m\u001b[0;34m]\u001b[0m\u001b[0;34m,\u001b[0m \u001b[0;34m'size'\u001b[0m\u001b[0;34m:\u001b[0m\u001b[0mentry\u001b[0m\u001b[0;34m[\u001b[0m\u001b[0;36m1\u001b[0m\u001b[0;34m]\u001b[0m\u001b[0;34m[\u001b[0m\u001b[0;34m'profit'\u001b[0m\u001b[0;34m]\u001b[0m\u001b[0;34m,\u001b[0m\u001b[0;34m'profits'\u001b[0m\u001b[0;34m:\u001b[0m\u001b[0mentry\u001b[0m\u001b[0;34m[\u001b[0m\u001b[0;36m1\u001b[0m\u001b[0;34m]\u001b[0m\u001b[0;34m[\u001b[0m\u001b[0;34m'profits'\u001b[0m\u001b[0;34m]\u001b[0m\u001b[0;34m,\u001b[0m\u001b[0;34m'country'\u001b[0m\u001b[0;34m:\u001b[0m\u001b[0mentry\u001b[0m\u001b[0;34m[\u001b[0m\u001b[0;36m1\u001b[0m\u001b[0;34m]\u001b[0m\u001b[0;34m[\u001b[0m\u001b[0;34m'country'\u001b[0m\u001b[0;34m]\u001b[0m\u001b[0;34m,\u001b[0m\u001b[0;34m'assets'\u001b[0m\u001b[0;34m:\u001b[0m\u001b[0mentry\u001b[0m\u001b[0;34m[\u001b[0m\u001b[0;36m1\u001b[0m\u001b[0;34m]\u001b[0m\u001b[0;34m[\u001b[0m\u001b[0;34m'assets'\u001b[0m\u001b[0;34m]\u001b[0m\u001b[0;34m,\u001b[0m\u001b[0;34m\"marketValue\"\u001b[0m\u001b[0;34m:\u001b[0m\u001b[0mentry\u001b[0m\u001b[0;34m[\u001b[0m\u001b[0;36m1\u001b[0m\u001b[0;34m]\u001b[0m\u001b[0;34m[\u001b[0m\u001b[0;34m'marketValue'\u001b[0m\u001b[0;34m]\u001b[0m\u001b[0;34m}\u001b[0m\u001b[0;34m)\u001b[0m\u001b[0;34m\u001b[0m\u001b[0m\n\u001b[0m\u001b[1;32m     10\u001b[0m                 \u001b[0mentered\u001b[0m \u001b[0;34m=\u001b[0m \u001b[0mTrue\u001b[0m\u001b[0;34m\u001b[0m\u001b[0m\n\u001b[1;32m     11\u001b[0m                 \u001b[0;32mbreak\u001b[0m\u001b[0;34m\u001b[0m\u001b[0m\n",
      "\u001b[0;32m/Users/muhammaddawood/anaconda/lib/python2.7/site-packages/pandas/core/series.pyc\u001b[0m in \u001b[0;36m__getitem__\u001b[0;34m(self, key)\u001b[0m\n\u001b[1;32m    555\u001b[0m     \u001b[0;32mdef\u001b[0m \u001b[0m__getitem__\u001b[0m\u001b[0;34m(\u001b[0m\u001b[0mself\u001b[0m\u001b[0;34m,\u001b[0m \u001b[0mkey\u001b[0m\u001b[0;34m)\u001b[0m\u001b[0;34m:\u001b[0m\u001b[0;34m\u001b[0m\u001b[0m\n\u001b[1;32m    556\u001b[0m         \u001b[0;32mtry\u001b[0m\u001b[0;34m:\u001b[0m\u001b[0;34m\u001b[0m\u001b[0m\n\u001b[0;32m--> 557\u001b[0;31m             \u001b[0mresult\u001b[0m \u001b[0;34m=\u001b[0m \u001b[0mself\u001b[0m\u001b[0;34m.\u001b[0m\u001b[0mindex\u001b[0m\u001b[0;34m.\u001b[0m\u001b[0mget_value\u001b[0m\u001b[0;34m(\u001b[0m\u001b[0mself\u001b[0m\u001b[0;34m,\u001b[0m \u001b[0mkey\u001b[0m\u001b[0;34m)\u001b[0m\u001b[0;34m\u001b[0m\u001b[0m\n\u001b[0m\u001b[1;32m    558\u001b[0m \u001b[0;34m\u001b[0m\u001b[0m\n\u001b[1;32m    559\u001b[0m             \u001b[0;32mif\u001b[0m \u001b[0;32mnot\u001b[0m \u001b[0mnp\u001b[0m\u001b[0;34m.\u001b[0m\u001b[0misscalar\u001b[0m\u001b[0;34m(\u001b[0m\u001b[0mresult\u001b[0m\u001b[0;34m)\u001b[0m\u001b[0;34m:\u001b[0m\u001b[0;34m\u001b[0m\u001b[0m\n",
      "\u001b[0;32m/Users/muhammaddawood/anaconda/lib/python2.7/site-packages/pandas/core/index.pyc\u001b[0m in \u001b[0;36mget_value\u001b[0;34m(self, series, key)\u001b[0m\n\u001b[1;32m   1802\u001b[0m                     \u001b[0;32mraise\u001b[0m \u001b[0mInvalidIndexError\u001b[0m\u001b[0;34m(\u001b[0m\u001b[0mkey\u001b[0m\u001b[0;34m)\u001b[0m\u001b[0;34m\u001b[0m\u001b[0m\n\u001b[1;32m   1803\u001b[0m                 \u001b[0;32melse\u001b[0m\u001b[0;34m:\u001b[0m\u001b[0;34m\u001b[0m\u001b[0m\n\u001b[0;32m-> 1804\u001b[0;31m                     \u001b[0;32mraise\u001b[0m \u001b[0me1\u001b[0m\u001b[0;34m\u001b[0m\u001b[0m\n\u001b[0m\u001b[1;32m   1805\u001b[0m             \u001b[0;32mexcept\u001b[0m \u001b[0mException\u001b[0m\u001b[0;34m:\u001b[0m  \u001b[0;31m# pragma: no cover\u001b[0m\u001b[0;34m\u001b[0m\u001b[0m\n\u001b[1;32m   1806\u001b[0m                 \u001b[0;32mraise\u001b[0m \u001b[0me1\u001b[0m\u001b[0;34m\u001b[0m\u001b[0m\n",
      "\u001b[0;31mKeyError\u001b[0m: 'profit'"
     ]
    }
   ],
   "source": [
    "jsonFile = {\"name\": \"top50\",\"children\": []}\n",
    "for entry in shortlist.sort_values(by='revenue', ascending=False).iterrows():\n",
    "    if len(jsonFile['children'])==0:\n",
    "        jsonFile['children'].append({\"name\":entry[1]['industry'], \"children\":[{'name':entry[1]['name'], 'size':entry[1]['profits'],'profit':entry[1]['profits'],'country':entry[1]['country'],'assets':entry[1]['assets'],\"marketValue\":entry[1]['marketValue']}]})\n",
    "    else:\n",
    "        entered = False\n",
    "        for index,cat in enumerate(jsonFile['children']):\n",
    "            if cat['name']==entry[1]['industry']:\n",
    "                jsonFile['children'][index]['children'].append({'name':entry[1]['name'], 'size':entry[1]['profits'],'profit':entry[1]['profits'],'country':entry[1]['country'],'assets':entry[1]['assets'],\"marketValue\":entry[1]['marketValue']})\n",
    "                entered = True\n",
    "                break\n",
    "        if not entered:\n",
    "            jsonFile['children'].append({\"name\":entry[1]['industry'], \"children\":[{'name':entry[1]['name'], 'size':entry[1]['profits'],'profit':entry[1]['profits'],'country':entry[1]['country'],'assets':entry[1]['assets'],\"marketValue\":entry[1]['marketValue']}]})"
   ]
  },
  {
   "cell_type": "code",
   "execution_count": 18,
   "metadata": {
    "collapsed": false
   },
   "outputs": [
    {
     "data": {
      "text/plain": [
       "'{\"name\": \"top50\", \"children\": [{\"name\": \"Retail\", \"children\": [{\"assets\": 198.825, \"profit\": 13.643, \"country\": \"United States\", \"marketValue\": 221.106, \"size\": 13.643, \"name\": \"Wal-Mart Stores\"}]}, {\"name\": \"Automotive\", \"children\": [{\"assets\": 412.496, \"profit\": 17.1115, \"country\": \"Japan\", \"marketValue\": 171.85, \"size\": 17.1115, \"name\": \"Toyota Motor\"}]}, {\"name\": \"Finance & Insurance\", \"children\": [{\"assets\": 620.854, \"profit\": 24.074, \"country\": \"United States\", \"marketValue\": 409.908, \"size\": 24.074, \"name\": \"Berkshire Hathaway\"}]}, {\"name\": \"Technology\", \"children\": [{\"assets\": 331.141, \"profit\": 45.217, \"country\": \"United States\", \"marketValue\": 752.039, \"size\": 45.217, \"name\": \"Apple\"}]}, {\"name\": \"Oil & Gas\", \"children\": [{\"assets\": 330.314, \"profit\": 7.84, \"country\": \"United States\", \"marketValue\": 343.165, \"size\": 7.84, \"name\": \"ExxonMobil\"}]}]}'"
      ]
     },
     "execution_count": 18,
     "metadata": {},
     "output_type": "execute_result"
    }
   ],
   "source": [
    "json.dumps(jsonFile)"
   ]
  },
  {
   "cell_type": "code",
   "execution_count": null,
   "metadata": {
    "collapsed": false
   },
   "outputs": [],
   "source": [
    "sums = []\n",
    "names = []\n",
    "for i,ind in enumerate(jsonFile[\"children\"]):\n",
    "    names.append(ind[\"name\"])\n",
    "    sums.append(0)\n",
    "    for comp in ind[\"children\"]:\n",
    "        sums[i] += comp[\"size\"]\n",
    "print(names)\n",
    "print(sums)"
   ]
  },
  {
   "cell_type": "code",
   "execution_count": null,
   "metadata": {
    "collapsed": false
   },
   "outputs": [],
   "source": [
    "jsonFile = []\n",
    "for entry in shortlist.sort_values(by='revenue', ascending=False).head(n=50).iterrows():\n",
    "    jsonFile.append({\"name\":entry[1][\"name\"],\"value\":entry[1][\"revenue\"],\"group\":entry[1][\"industry\"]})\n",
    "json.dumps(jsonFile)"
   ]
  },
  {
   "cell_type": "code",
   "execution_count": null,
   "metadata": {
    "collapsed": false
   },
   "outputs": [],
   "source": [
    "jsonFile = {\"categories\": [],\"series\": [\"Revenue\",\"Profit\"],\"colors\": [\"#3498db\",\"#e74c3c\",\"#2ecc71\"],\"layers\": [[],[]]}\n",
    "for entry in shortlist.sort_values(by='revenue', ascending=False).head(n=50).iterrows():\n",
    "    jsonFile[\"categories\"].append(entry[1][\"name\"])\n",
    "    jsonFile[\"layers\"][0].append({\"name\":entry[1][\"name\"],\"y\":entry[1][\"revenue\"],\"group\":entry[1][\"industry\"]})\n",
    "    jsonFile[\"layers\"][1].append({\"name\":entry[1][\"name\"],\"y\":entry[1][\"profits\"],\"group\":entry[1][\"industry\"]})\n",
    "json.dumps(jsonFile)"
   ]
  },
  {
   "cell_type": "code",
   "execution_count": null,
   "metadata": {
    "collapsed": false
   },
   "outputs": [],
   "source": [
    "plt.plot(shortlist.revenue, shortlist.length, \"o\")\n",
    "plt.title(\"Gaussian Histogram\")\n",
    "plt.xlabel(\"Rev\")\n",
    "plt.ylabel(\"name\")"
   ]
  },
  {
   "cell_type": "code",
   "execution_count": null,
   "metadata": {
    "collapsed": true
   },
   "outputs": [],
   "source": [
    "plt.show()"
   ]
  },
  {
   "cell_type": "code",
   "execution_count": null,
   "metadata": {
    "collapsed": true
   },
   "outputs": [],
   "source": []
  }
 ],
 "metadata": {
  "kernelspec": {
   "display_name": "Python 2",
   "language": "python",
   "name": "python2"
  },
  "language_info": {
   "codemirror_mode": {
    "name": "ipython",
    "version": 2
   },
   "file_extension": ".py",
   "mimetype": "text/x-python",
   "name": "python",
   "nbconvert_exporter": "python",
   "pygments_lexer": "ipython2",
   "version": "2.7.11"
  }
 },
 "nbformat": 4,
 "nbformat_minor": 0
}
